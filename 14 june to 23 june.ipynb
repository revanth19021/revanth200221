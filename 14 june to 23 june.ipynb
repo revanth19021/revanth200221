{
 "cells": [
  {
   "cell_type": "markdown",
   "id": "8a8b6128",
   "metadata": {},
   "source": [
    "print(\"hai\")"
   ]
  },
  {
   "cell_type": "code",
   "execution_count": 2,
   "id": "51428b93",
   "metadata": {},
   "outputs": [
    {
     "name": "stdout",
     "output_type": "stream",
     "text": [
      "welcome students\n",
      "welcome students\n",
      "hai\n",
      "hai students\n"
     ]
    }
   ],
   "source": [
    "print(\"welcome students\")\n",
    "\n",
    "\n",
    "\n",
    "\n",
    "\n",
    "\n",
    "\n",
    "\n",
    "\n",
    "print(\"welcome students\")\n",
    "print(\"hai\")\n",
    "\n",
    "\n",
    "\n",
    "print(\"hai students\")"
   ]
  },
  {
   "cell_type": "code",
   "execution_count": 3,
   "id": "6bc684d4",
   "metadata": {},
   "outputs": [
    {
     "name": "stdout",
     "output_type": "stream",
     "text": [
      "hello world\n"
     ]
    }
   ],
   "source": [
    "print(\"hello world\")\n"
   ]
  },
  {
   "cell_type": "code",
   "execution_count": 5,
   "id": "c05a8869",
   "metadata": {},
   "outputs": [
    {
     "name": "stdout",
     "output_type": "stream",
     "text": [
      "welcome studdents\n"
     ]
    }
   ],
   "source": [
    "print(\"welcome studdents\")"
   ]
  },
  {
   "cell_type": "code",
   "execution_count": 6,
   "id": "6834591e",
   "metadata": {},
   "outputs": [
    {
     "name": "stdout",
     "output_type": "stream",
     "text": [
      "hai\n",
      "hai\n",
      "welcome stduents\n"
     ]
    }
   ],
   "source": [
    "print(\"hai\")\n",
    "\n",
    "print(\"hai\")\n",
    "\n",
    "print(\"welcome stduents\")"
   ]
  },
  {
   "cell_type": "code",
   "execution_count": 7,
   "id": "12f3a4d6",
   "metadata": {},
   "outputs": [
    {
     "name": "stdout",
     "output_type": "stream",
     "text": [
      "23\n"
     ]
    }
   ],
   "source": [
    "s=23\n",
    "print(s)"
   ]
  },
  {
   "cell_type": "code",
   "execution_count": 8,
   "id": "e9b7c916",
   "metadata": {},
   "outputs": [
    {
     "name": "stdout",
     "output_type": "stream",
     "text": [
      "34\n"
     ]
    }
   ],
   "source": [
    "_=34\n",
    "print(_)"
   ]
  },
  {
   "cell_type": "code",
   "execution_count": 9,
   "id": "e1bd6489",
   "metadata": {},
   "outputs": [
    {
     "name": "stdout",
     "output_type": "stream",
     "text": [
      "20\n",
      "<class 'int'>\n"
     ]
    }
   ],
   "source": [
    "a=20\n",
    "print(a)\n",
    "print(type(a))"
   ]
  },
  {
   "cell_type": "code",
   "execution_count": 10,
   "id": "533fb09c",
   "metadata": {},
   "outputs": [
    {
     "name": "stdout",
     "output_type": "stream",
     "text": [
      "a\n",
      "<class 'float'>\n"
     ]
    }
   ],
   "source": [
    "a=12.43\n",
    "print(\"a\")\n",
    "print(type(a))"
   ]
  },
  {
   "cell_type": "code",
   "execution_count": 11,
   "id": "d6979c3b",
   "metadata": {},
   "outputs": [
    {
     "data": {
      "text/plain": [
       "20"
      ]
     },
     "execution_count": 11,
     "metadata": {},
     "output_type": "execute_result"
    }
   ],
   "source": [
    "d=20\n",
    "d"
   ]
  },
  {
   "cell_type": "code",
   "execution_count": 14,
   "id": "e2cb2be1",
   "metadata": {},
   "outputs": [
    {
     "name": "stdout",
     "output_type": "stream",
     "text": [
      "20\n",
      "44\n",
      "56\n",
      "revanth\n"
     ]
    }
   ],
   "source": [
    "a,b,c,d=20,44,56,'revanth'\n",
    "print(a)\n",
    "print(b)\n",
    "print(c)\n",
    "print(d)"
   ]
  },
  {
   "cell_type": "code",
   "execution_count": 15,
   "id": "dcc96687",
   "metadata": {},
   "outputs": [
    {
     "name": "stdout",
     "output_type": "stream",
     "text": [
      "10\n",
      "20\n",
      "Addition of a and b is 30\n",
      "Addition of 10 and 20 is : 30\n",
      "Addition of 10 and 20 is: 30\n",
      "Addition of 30 and 10 is: 20\n"
     ]
    }
   ],
   "source": [
    "a=int(input())\n",
    "b=int(input())\n",
    "print(\"Addition of a and b is\",a+b)\n",
    "print(\"Addition of %d and %d is : %d\"%(a,b,a+b))\n",
    "print(\"Addition of {} and {} is: {}\".format(a,b,a+b))\n",
    "print(\"Addition of {2} and {0} is: {1}\".format(a,b,a+b))"
   ]
  },
  {
   "cell_type": "code",
   "execution_count": 16,
   "id": "68d4f7ac",
   "metadata": {},
   "outputs": [
    {
     "name": "stdout",
     "output_type": "stream",
     "text": [
      "False\n",
      "True\n"
     ]
    }
   ],
   "source": [
    "# identity operator\n",
    "a=10\n",
    "b=20\n",
    "print(a is b)\n",
    "print(a is not b)"
   ]
  },
  {
   "cell_type": "code",
   "execution_count": 20,
   "id": "bc592963",
   "metadata": {},
   "outputs": [
    {
     "name": "stdout",
     "output_type": "stream",
     "text": [
      "True\n",
      "True\n"
     ]
    }
   ],
   "source": [
    "#membership operator\n",
    "a=\"revanth\"\n",
    "print(\"r\"in a)\n",
    "print(\"s\"not in a)"
   ]
  },
  {
   "cell_type": "code",
   "execution_count": 21,
   "id": "f7e472e7",
   "metadata": {},
   "outputs": [
    {
     "name": "stdout",
     "output_type": "stream",
     "text": [
      "Enter usename :revanth200319@gmail.com\n",
      "enter password :764356\n",
      "login successfull\n"
     ]
    }
   ],
   "source": [
    "username=\"revanth200319@gmail.com\"\n",
    "password=764356\n",
    "user=input(\"Enter usename :\")\n",
    "pwd=int(input(\"enter password :\"))\n",
    "if username==user:\n",
    "    if password==pwd:\n",
    "        print(\"login successfull\")\n",
    "else:\n",
    "    print(\"Invalid details\")"
   ]
  },
  {
   "cell_type": "code",
   "execution_count": 22,
   "id": "6d6e3b1a",
   "metadata": {},
   "outputs": [
    {
     "name": "stdout",
     "output_type": "stream",
     "text": [
      "['__breakpointhook__', '__displayhook__', '__doc__', '__excepthook__', '__interactivehook__', '__loader__', '__name__', '__package__', '__spec__', '__stderr__', '__stdin__', '__stdout__', '__unraisablehook__', '_base_executable', '_clear_type_cache', '_current_frames', '_debugmallocstats', '_enablelegacywindowsfsencoding', '_framework', '_getframe', '_git', '_home', '_xoptions', 'addaudithook', 'api_version', 'argv', 'audit', 'base_exec_prefix', 'base_prefix', 'breakpointhook', 'builtin_module_names', 'byteorder', 'call_tracing', 'callstats', 'copyright', 'displayhook', 'dllhandle', 'dont_write_bytecode', 'exc_info', 'excepthook', 'exec_prefix', 'executable', 'exit', 'flags', 'float_info', 'float_repr_style', 'get_asyncgen_hooks', 'get_coroutine_origin_tracking_depth', 'getallocatedblocks', 'getcheckinterval', 'getdefaultencoding', 'getfilesystemencodeerrors', 'getfilesystemencoding', 'getprofile', 'getrecursionlimit', 'getrefcount', 'getsizeof', 'getswitchinterval', 'gettrace', 'getwindowsversion', 'hash_info', 'hexversion', 'implementation', 'int_info', 'intern', 'is_finalizing', 'maxsize', 'maxunicode', 'meta_path', 'modules', 'path', 'path_hooks', 'path_importer_cache', 'platform', 'prefix', 'ps1', 'ps2', 'ps3', 'pycache_prefix', 'set_asyncgen_hooks', 'set_coroutine_origin_tracking_depth', 'setcheckinterval', 'setprofile', 'setrecursionlimit', 'setswitchinterval', 'settrace', 'stderr', 'stdin', 'stdout', 'thread_info', 'unraisablehook', 'version', 'version_info', 'warnoptions', 'winver']\n"
     ]
    }
   ],
   "source": [
    "import sys\n",
    "print(dir(sys))"
   ]
  },
  {
   "cell_type": "code",
   "execution_count": 23,
   "id": "10304b98",
   "metadata": {},
   "outputs": [
    {
     "name": "stdout",
     "output_type": "stream",
     "text": [
      "3.8.8 (default, Apr 13 2021, 15:08:03) [MSC v.1916 64 bit (AMD64)]\n"
     ]
    }
   ],
   "source": [
    "print(sys.version)"
   ]
  },
  {
   "cell_type": "code",
   "execution_count": 25,
   "id": "c2106e72",
   "metadata": {},
   "outputs": [
    {
     "name": "stdout",
     "output_type": "stream",
     "text": [
      "sys.version_info(major=3, minor=8, micro=8, releaselevel='final', serial=0)\n"
     ]
    }
   ],
   "source": [
    "print(sys.version_info)"
   ]
  },
  {
   "cell_type": "code",
   "execution_count": 26,
   "id": "1281f8d8",
   "metadata": {},
   "outputs": [
    {
     "name": "stdout",
     "output_type": "stream",
     "text": [
      "['__abstractmethods__', '__class__', '__del__', '__delattr__', '__dict__', '__dir__', '__doc__', '__enter__', '__eq__', '__exit__', '__format__', '__ge__', '__getattribute__', '__gt__', '__hash__', '__init__', '__init_subclass__', '__iter__', '__le__', '__lt__', '__module__', '__ne__', '__new__', '__next__', '__reduce__', '__reduce_ex__', '__repr__', '__setattr__', '__sizeof__', '__str__', '__subclasshook__', '_abc_impl', '_buffer', '_checkClosed', '_checkReadable', '_checkSeekable', '_checkWritable', '_flush', '_flush_buffer', '_flush_pending', '_io_loop', '_is_master_process', '_master_pid', '_new_buffer', '_schedule_flush', '_subprocess_flush_pending', 'close', 'closed', 'detach', 'echo', 'encoding', 'errors', 'fileno', 'flush', 'flush_interval', 'flush_timeout', 'isatty', 'name', 'newlines', 'parent_header', 'pub_thread', 'read', 'readable', 'readline', 'readlines', 'seek', 'seekable', 'session', 'set_parent', 'tell', 'topic', 'truncate', 'writable', 'write', 'writelines']\n"
     ]
    }
   ],
   "source": [
    "print(dir(sys.stderr))"
   ]
  },
  {
   "cell_type": "code",
   "execution_count": 27,
   "id": "c295c6ce",
   "metadata": {},
   "outputs": [
    {
     "name": "stdout",
     "output_type": "stream",
     "text": [
      "['_CHUNK_SIZE', '__class__', '__del__', '__delattr__', '__dict__', '__dir__', '__doc__', '__enter__', '__eq__', '__exit__', '__format__', '__ge__', '__getattribute__', '__gt__', '__hash__', '__init__', '__init_subclass__', '__iter__', '__le__', '__lt__', '__ne__', '__new__', '__next__', '__reduce__', '__reduce_ex__', '__repr__', '__setattr__', '__sizeof__', '__str__', '__subclasshook__', '_checkClosed', '_checkReadable', '_checkSeekable', '_checkWritable', '_finalizing', 'buffer', 'close', 'closed', 'detach', 'encoding', 'errors', 'fileno', 'flush', 'isatty', 'line_buffering', 'mode', 'name', 'newlines', 'read', 'readable', 'readline', 'readlines', 'reconfigure', 'seek', 'seekable', 'tell', 'truncate', 'writable', 'write', 'write_through', 'writelines']\n"
     ]
    }
   ],
   "source": [
    "print(dir(sys.stdin))"
   ]
  },
  {
   "cell_type": "code",
   "execution_count": 28,
   "id": "c4e7f2cc",
   "metadata": {},
   "outputs": [
    {
     "name": "stdout",
     "output_type": "stream",
     "text": [
      "['__abstractmethods__', '__class__', '__del__', '__delattr__', '__dict__', '__dir__', '__doc__', '__enter__', '__eq__', '__exit__', '__format__', '__ge__', '__getattribute__', '__gt__', '__hash__', '__init__', '__init_subclass__', '__iter__', '__le__', '__lt__', '__module__', '__ne__', '__new__', '__next__', '__reduce__', '__reduce_ex__', '__repr__', '__setattr__', '__sizeof__', '__str__', '__subclasshook__', '_abc_impl', '_buffer', '_checkClosed', '_checkReadable', '_checkSeekable', '_checkWritable', '_flush', '_flush_buffer', '_flush_pending', '_io_loop', '_is_master_process', '_master_pid', '_new_buffer', '_schedule_flush', '_subprocess_flush_pending', 'close', 'closed', 'detach', 'echo', 'encoding', 'errors', 'fileno', 'flush', 'flush_interval', 'flush_timeout', 'isatty', 'name', 'newlines', 'parent_header', 'pub_thread', 'read', 'readable', 'readline', 'readlines', 'seek', 'seekable', 'session', 'set_parent', 'softspace', 'tell', 'topic', 'truncate', 'writable', 'write', 'writelines']\n"
     ]
    }
   ],
   "source": [
    "print(dir(sys.stdout))"
   ]
  },
  {
   "cell_type": "code",
   "execution_count": 29,
   "id": "58071f08",
   "metadata": {},
   "outputs": [
    {
     "name": "stdout",
     "output_type": "stream",
     "text": [
      "['__doc__', '__loader__', '__name__', '__package__', '__spec__', 'acos', 'acosh', 'asin', 'asinh', 'atan', 'atan2', 'atanh', 'ceil', 'comb', 'copysign', 'cos', 'cosh', 'degrees', 'dist', 'e', 'erf', 'erfc', 'exp', 'expm1', 'fabs', 'factorial', 'floor', 'fmod', 'frexp', 'fsum', 'gamma', 'gcd', 'hypot', 'inf', 'isclose', 'isfinite', 'isinf', 'isnan', 'isqrt', 'ldexp', 'lgamma', 'log', 'log10', 'log1p', 'log2', 'modf', 'nan', 'perm', 'pi', 'pow', 'prod', 'radians', 'remainder', 'sin', 'sinh', 'sqrt', 'tan', 'tanh', 'tau', 'trunc']\n"
     ]
    }
   ],
   "source": [
    "import math as mt\n",
    "print(dir(mt))"
   ]
  },
  {
   "cell_type": "code",
   "execution_count": 30,
   "id": "72498e7d",
   "metadata": {},
   "outputs": [
    {
     "data": {
      "text/plain": [
       "0.8509035245341184"
      ]
     },
     "execution_count": 30,
     "metadata": {},
     "output_type": "execute_result"
    }
   ],
   "source": [
    "mt.sin(45)"
   ]
  },
  {
   "cell_type": "code",
   "execution_count": 31,
   "id": "b2fc453c",
   "metadata": {},
   "outputs": [
    {
     "data": {
      "text/plain": [
       "24"
      ]
     },
     "execution_count": 31,
     "metadata": {},
     "output_type": "execute_result"
    }
   ],
   "source": [
    "mt.factorial(4)"
   ]
  },
  {
   "cell_type": "code",
   "execution_count": 32,
   "id": "49fa1b00",
   "metadata": {},
   "outputs": [
    {
     "data": {
      "text/plain": [
       "720"
      ]
     },
     "execution_count": 32,
     "metadata": {},
     "output_type": "execute_result"
    }
   ],
   "source": [
    "mt.factorial(6)"
   ]
  },
  {
   "cell_type": "code",
   "execution_count": 33,
   "id": "b5438029",
   "metadata": {},
   "outputs": [
    {
     "data": {
      "text/plain": [
       "45"
      ]
     },
     "execution_count": 33,
     "metadata": {},
     "output_type": "execute_result"
    }
   ],
   "source": [
    "mt.floor(45.6)"
   ]
  },
  {
   "cell_type": "code",
   "execution_count": 37,
   "id": "d0ffe381",
   "metadata": {},
   "outputs": [
    {
     "data": {
      "text/plain": [
       "10"
      ]
     },
     "execution_count": 37,
     "metadata": {},
     "output_type": "execute_result"
    }
   ],
   "source": [
    "mt.ceil(9.36)"
   ]
  },
  {
   "cell_type": "code",
   "execution_count": 38,
   "id": "42dec9f1",
   "metadata": {},
   "outputs": [
    {
     "data": {
      "text/plain": [
       "2.0"
      ]
     },
     "execution_count": 38,
     "metadata": {},
     "output_type": "execute_result"
    }
   ],
   "source": [
    "mt.sqrt(4)"
   ]
  },
  {
   "cell_type": "code",
   "execution_count": 39,
   "id": "07f8c856",
   "metadata": {},
   "outputs": [
    {
     "data": {
      "text/plain": [
       "16.0"
      ]
     },
     "execution_count": 39,
     "metadata": {},
     "output_type": "execute_result"
    }
   ],
   "source": [
    "mt.pow(2,4)"
   ]
  },
  {
   "cell_type": "code",
   "execution_count": 40,
   "id": "1f72d485",
   "metadata": {},
   "outputs": [
    {
     "data": {
      "text/plain": [
       "3.141592653589793"
      ]
     },
     "execution_count": 40,
     "metadata": {},
     "output_type": "execute_result"
    }
   ],
   "source": [
    "mt.pi"
   ]
  },
  {
   "cell_type": "code",
   "execution_count": 3,
   "id": "71d96989",
   "metadata": {},
   "outputs": [
    {
     "name": "stdout",
     "output_type": "stream",
     "text": [
      "['BPF', 'LOG4', 'NV_MAGICCONST', 'RECIP_BPF', 'Random', 'SG_MAGICCONST', 'SystemRandom', 'TWOPI', '_Sequence', '_Set', '__all__', '__builtins__', '__cached__', '__doc__', '__file__', '__loader__', '__name__', '__package__', '__spec__', '_accumulate', '_acos', '_bisect', '_ceil', '_cos', '_e', '_exp', '_inst', '_log', '_os', '_pi', '_random', '_repeat', '_sha512', '_sin', '_sqrt', '_test', '_test_generator', '_urandom', '_warn', 'betavariate', 'choice', 'choices', 'expovariate', 'gammavariate', 'gauss', 'getrandbits', 'getstate', 'lognormvariate', 'normalvariate', 'paretovariate', 'randint', 'random', 'randrange', 'sample', 'seed', 'setstate', 'shuffle', 'triangular', 'uniform', 'vonmisesvariate', 'weibullvariate']\n"
     ]
    }
   ],
   "source": [
    "import random as rd\n",
    "print(dir(rd))"
   ]
  },
  {
   "cell_type": "code",
   "execution_count": 4,
   "id": "ec9799bd",
   "metadata": {},
   "outputs": [
    {
     "data": {
      "text/plain": [
       "5"
      ]
     },
     "execution_count": 4,
     "metadata": {},
     "output_type": "execute_result"
    }
   ],
   "source": [
    "rd.randint(0,10)"
   ]
  },
  {
   "cell_type": "code",
   "execution_count": 6,
   "id": "f2a68d8f",
   "metadata": {},
   "outputs": [
    {
     "name": "stdout",
     "output_type": "stream",
     "text": [
      "71\t87\t57\t97\t8\t93\t10\t32\t6\t18\t25\t3\t24\t12\t22\t65\t19\t12\t76\t93\t9\t30\t43\t74\t30\t14\t92\t5\t90\t1\t44\t48\t22\t15\t59\t26\t7\t13\t87\t95\t15\t1\t19\t88\t89\t83\t63\t99\t59\t90\t23\t31\t50\t18\t90\t65\t49\t83\t30\t21\t68\t24\t76\t7\t81\t57\t98\t90\t65\t85\t90\t27\t85\t73\t15\t41\t89\t80\t96\t77\t42\t7\t19\t32\t29\t53\t64\t80\t37\t90\t47\t98\t39\t49\t35\t48\t54\t23\t88\t64\t"
     ]
    }
   ],
   "source": [
    "for i in range(100):\n",
    "    k=rd.randint(1,100)\n",
    "    print(k,end=\"\\t\")"
   ]
  },
  {
   "cell_type": "code",
   "execution_count": 9,
   "id": "4bdda4a3",
   "metadata": {},
   "outputs": [
    {
     "data": {
      "text/plain": [
       "9"
      ]
     },
     "execution_count": 9,
     "metadata": {},
     "output_type": "execute_result"
    }
   ],
   "source": [
    "ch=rd.choice([1,2,3,10,9,11])\n",
    "ch\n"
   ]
  },
  {
   "cell_type": "code",
   "execution_count": 11,
   "id": "0160f71e",
   "metadata": {},
   "outputs": [
    {
     "name": "stdout",
     "output_type": "stream",
     "text": [
      "python programing\n"
     ]
    }
   ],
   "source": [
    "#strings\n",
    "s=\"python programing\"\n",
    "print(s)\n"
   ]
  },
  {
   "cell_type": "code",
   "execution_count": 2,
   "id": "a02fa646",
   "metadata": {},
   "outputs": [
    {
     "data": {
      "text/plain": [
       "2"
      ]
     },
     "execution_count": 2,
     "metadata": {},
     "output_type": "execute_result"
    }
   ],
   "source": [
    "s=\"revanth\"\n",
    "s.find(\"v\")"
   ]
  },
  {
   "cell_type": "code",
   "execution_count": 2,
   "id": "1666dd7f",
   "metadata": {},
   "outputs": [
    {
     "data": {
      "text/plain": [
       "13"
      ]
     },
     "execution_count": 2,
     "metadata": {},
     "output_type": "execute_result"
    }
   ],
   "source": [
    "import random\n",
    "rd=random.randrange(1,100,3)\n",
    "rd\n"
   ]
  },
  {
   "cell_type": "code",
   "execution_count": 3,
   "id": "02653001",
   "metadata": {},
   "outputs": [
    {
     "name": "stdout",
     "output_type": "stream",
     "text": [
      " Volume in drive C has no label.\n",
      " Volume Serial Number is 8085-2938\n",
      "\n",
      " Directory of C:\\Users\\USER\\Desktop\n",
      "\n",
      "04-07-2021  18:33    <DIR>          .\n",
      "04-07-2021  18:33    <DIR>          ..\n",
      "02-07-2021  18:46    <DIR>          .ipynb_checkpoints\n",
      "29-06-2021  16:59               895 µTorrent.lnk\n",
      "04-07-2021  18:33            19,119 14 june to 23 june.ipynb\n",
      "13-06-2021  21:41           569,905 Common-Distinction-Tests-In-Organic-Chemistry-by-Meritnation.pdf\n",
      "02-07-2021  18:49                 0 file1.txt\n",
      "28-06-2021  10:42             1,450 Microsoft Edge.lnk\n",
      "29-06-2021  17:04             1,406 Opera Browser.lnk\n",
      "10-06-2021  06:07         6,171,621 Practice_Questions_in_Calculus_by_GB_sir(Best tough questions).pdf\n",
      "02-07-2021  18:47               576 pythonkits.ipynb\n",
      "               8 File(s)      6,764,972 bytes\n",
      "               3 Dir(s)  162,376,101,888 bytes free\n"
     ]
    }
   ],
   "source": [
    "ls"
   ]
  },
  {
   "cell_type": "code",
   "execution_count": 5,
   "id": "a1782e7c",
   "metadata": {},
   "outputs": [
    {
     "name": "stdout",
     "output_type": "stream",
     "text": [
      "[6, 7, 8, 9, 10, 11, 12, 13, 14, 15, 16, 17, 18, 19]\n"
     ]
    }
   ],
   "source": [
    "def fliter(n):\n",
    "    if n>5:\n",
    "        return n\n",
    "data=filter(fliter,range(20))\n",
    "print(list(data))"
   ]
  },
  {
   "cell_type": "code",
   "execution_count": null,
   "id": "1b4b7a0a",
   "metadata": {},
   "outputs": [],
   "source": []
  }
 ],
 "metadata": {
  "kernelspec": {
   "display_name": "Python 3",
   "language": "python",
   "name": "python3"
  },
  "language_info": {
   "codemirror_mode": {
    "name": "ipython",
    "version": 3
   },
   "file_extension": ".py",
   "mimetype": "text/x-python",
   "name": "python",
   "nbconvert_exporter": "python",
   "pygments_lexer": "ipython3",
   "version": "3.8.8"
  }
 },
 "nbformat": 4,
 "nbformat_minor": 5
}
